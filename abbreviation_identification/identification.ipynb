{
 "cells": [
  {
   "cell_type": "code",
   "execution_count": 19,
   "id": "694eb2e4",
   "metadata": {
    "id": "694eb2e4"
   },
   "outputs": [],
   "source": [
    "import numpy as np\n",
    "import pandas as pd\n",
    "import matplotlib.pyplot as plt\n",
    "import seaborn as sns\n",
    "import sklearn\n",
    "from sklearn.model_selection import train_test_split\n",
    "from sklearn.metrics import classification_report, confusion_matrix, roc_auc_score, accuracy_score, f1_score, recall_score, precision_score\n",
    "from sklearn.preprocessing import LabelEncoder\n",
    "from sklearn.ensemble import RandomForestClassifier\n",
    "from sklearn.model_selection import GridSearchCV\n",
    "from sklearn.svm import SVC\n",
    "import catboost\n",
    "from sklearn.ensemble import GradientBoostingClassifier\n",
    "import xgboost as xgb\n",
    "from sklearn.tree import DecisionTreeClassifier\n",
    "from imblearn.over_sampling import SMOTE, ADASYN, BorderlineSMOTE  \n",
    "from statistics import median, mean"
   ]
  },
  {
   "cell_type": "code",
   "execution_count": 4,
   "id": "38547ea0",
   "metadata": {
    "id": "38547ea0"
   },
   "outputs": [],
   "source": [
    "def read_and_drop(filename):\n",
    "    df = pd.read_csv(filename)\n",
    "    df = df.drop('Unnamed: 0', axis=1)\n",
    "    df = df.drop('Unnamed: 0.1', axis=1)\n",
    "    df = df.drop('abbreviation', axis=1)\n",
    "    df = df.drop('definition', axis=1)\n",
    "    df = df.drop('begin', axis=1)\n",
    "    df = df.drop('end', axis=1)\n",
    "    df = df.drop('abbreviation_place', axis=1)\n",
    "    df['almost_synonyms'].fillna(int(df['almost_synonyms'].min()), inplace=True)\n",
    "    df.head()\n",
    "    return df"
   ]
  },
  {
   "cell_type": "code",
   "execution_count": 5,
   "id": "60815f76",
   "metadata": {
    "id": "60815f76"
   },
   "outputs": [],
   "source": [
    "def print_output(model, y_train, y_train_hat, y_test, y_test_hat):\n",
    "    print(model)\n",
    "    print('Train performance')\n",
    "    print('-------------------------------------------------------')\n",
    "    print(classification_report(y_train, y_train_hat))\n",
    "    print('Test performance')\n",
    "    print('-------------------------------------------------------')\n",
    "    print(classification_report(y_test, y_test_hat))\n",
    "    print('Roc_auc score')\n",
    "    print('-------------------------------------------------------')\n",
    "    print(roc_auc_score(y_test, y_test_hat))\n",
    "    print('')\n",
    "    print('Confusion matrix')\n",
    "    print('-------------------------------------------------------')\n",
    "    print(confusion_matrix(y_test, y_test_hat))"
   ]
  },
  {
   "cell_type": "code",
   "execution_count": 6,
   "id": "b9bb2c53",
   "metadata": {
    "id": "b9bb2c53"
   },
   "outputs": [],
   "source": [
    "df = read_and_drop(\"/content/drive/MyDrive/ColabNotebooks/data/potential_pairs_with_features.csv\")\n",
    "df_test = read_and_drop(\"/content/drive/MyDrive/ColabNotebooks/data/6_potential_pairs_with_features.csv\")"
   ]
  },
  {
   "cell_type": "code",
   "execution_count": 8,
   "id": "5ef638b3",
   "metadata": {
    "id": "5ef638b3"
   },
   "outputs": [],
   "source": [
    "X, y = df.drop('is_it_correct', axis=1), df['is_it_correct']"
   ]
  },
  {
   "cell_type": "code",
   "execution_count": 9,
   "id": "8beb5ddb",
   "metadata": {
    "id": "8beb5ddb",
    "scrolled": true
   },
   "outputs": [],
   "source": [
    "X_test, y_test = df_test.drop('is_it_correct', axis=1), df_test['is_it_correct']\n",
    "\n",
    "\n",
    "smote = SMOTE(sampling_strategy='minority', random_state=95, k_neighbors=1)\n",
    "X_train, y_train = smote.fit_resample(X, y)\n"
   ]
  },
  {
   "cell_type": "code",
   "execution_count": 14,
   "id": "fbad66d5",
   "metadata": {
    "id": "fbad66d5"
   },
   "outputs": [],
   "source": [
    "rf_rc = []\n",
    "rf_ac = []\n",
    "rf_fs = []\n",
    "\n",
    "for i in range(30):\n",
    "    rf_model = RandomForestClassifier(min_samples_leaf=7)\n",
    "    rf_model.fit(X_train, y_train)\n",
    "    y_train_hat = rf_model.predict(X_train)\n",
    "    y_test_hat_1 = rf_model.predict(X_test)\n",
    "    \n",
    "    rf_rc.append(roc_auc_score(y_test, y_test_hat_1))\n",
    "    rf_ac.append(accuracy_score(y_test, y_test_hat_1))\n",
    "    rf_fs.append(f1_score(y_test, y_test_hat_1))"
   ]
  },
  {
   "cell_type": "code",
   "execution_count": 17,
   "id": "NZoCqEbtkGZX",
   "metadata": {
    "colab": {
     "base_uri": "https://localhost:8080/"
    },
    "id": "NZoCqEbtkGZX",
    "outputId": "b378da22-6484-4107-c2cd-efe61e12ed0a"
   },
   "outputs": [
    {
     "name": "stdout",
     "output_type": "stream",
     "text": [
      "roc auc =  0.9259570494864613\n",
      "accuracy =  0.9935233160621761\n",
      "f1 =  0.7058823529411764\n"
     ]
    }
   ],
   "source": [
    "print('roc auc = ', median(rf_rc))\n",
    "print('accuracy = ', median(rf_ac))\n",
    "print('f1 = ', median(rf_fs))"
   ]
  },
  {
   "cell_type": "code",
   "execution_count": 20,
   "id": "4oyVDq1PR_sl",
   "metadata": {
    "id": "4oyVDq1PR_sl"
   },
   "outputs": [],
   "source": [
    "svm_rc = []\n",
    "svm_ac = []\n",
    "svm_fs = []\n",
    "pre = []\n",
    "rec = []\n",
    "\n",
    "for i in range(30):\n",
    "    svm_model = SVC()\n",
    "    svm_model.fit(X_train, y_train)\n",
    "    y_train_hat = svm_model.predict(X_train)\n",
    "    y_test_hat_3 = svm_model.predict(X_test)\n",
    "    \n",
    "    svm_rc.append(roc_auc_score(y_test, y_test_hat_3))\n",
    "    svm_ac.append(accuracy_score(y_test, y_test_hat_3))\n",
    "    svm_fs.append(f1_score(y_test, y_test_hat_3))\n",
    "    pre.append(recall_score(y_test, y_test_hat_3))\n",
    "    rec.append(precision_score(y_test, y_test_hat_3))"
   ]
  },
  {
   "cell_type": "code",
   "execution_count": 22,
   "id": "EyTmJPYESOvY",
   "metadata": {
    "colab": {
     "base_uri": "https://localhost:8080/"
    },
    "id": "EyTmJPYESOvY",
    "outputId": "a055e1df-12e2-4bd5-d1af-9c5b9ecc7215"
   },
   "outputs": [
    {
     "name": "stdout",
     "output_type": "stream",
     "text": [
      "roc auc =  0.9239962651727358\n",
      "accuracy =  0.9896373056994818\n",
      "f1 =  0.6\n"
     ]
    }
   ],
   "source": [
    "print('roc auc = ', median(svm_rc))\n",
    "print('accuracy = ', median(svm_ac))\n",
    "print('f1 = ', median(svm_fs))"
   ]
  },
  {
   "cell_type": "code",
   "execution_count": 10,
   "id": "2a528cde",
   "metadata": {
    "id": "2a528cde"
   },
   "outputs": [],
   "source": [
    "params = {\n",
    "    'n_estimators': 500,\n",
    "    'depth':5,\n",
    "    'loss_function': 'Logloss',\n",
    "    'verbose': 1000, \n",
    "    'learning_rate':0.011871,\n",
    "    \n",
    "}"
   ]
  },
  {
   "cell_type": "code",
   "execution_count": 11,
   "id": "66820061",
   "metadata": {
    "id": "66820061"
   },
   "outputs": [],
   "source": [
    " model = catboost.CatBoostClassifier(**params)"
   ]
  },
  {
   "cell_type": "code",
   "execution_count": 12,
   "id": "7c8323b4",
   "metadata": {
    "colab": {
     "base_uri": "https://localhost:8080/"
    },
    "id": "7c8323b4",
    "outputId": "3eb8e89a-8334-418d-83e1-eaa9a73d99ae"
   },
   "outputs": [
    {
     "name": "stdout",
     "output_type": "stream",
     "text": [
      "0:\tlearn: 0.6679281\ttotal: 47.7ms\tremaining: 23.8s\n",
      "499:\tlearn: 0.0261084\ttotal: 759ms\tremaining: 0us\n",
      "0:\tlearn: 0.6679281\ttotal: 1.46ms\tremaining: 728ms\n",
      "499:\tlearn: 0.0261084\ttotal: 705ms\tremaining: 0us\n",
      "0:\tlearn: 0.6679281\ttotal: 1.6ms\tremaining: 801ms\n",
      "499:\tlearn: 0.0261084\ttotal: 701ms\tremaining: 0us\n",
      "0:\tlearn: 0.6679281\ttotal: 1.5ms\tremaining: 750ms\n",
      "499:\tlearn: 0.0261084\ttotal: 704ms\tremaining: 0us\n",
      "0:\tlearn: 0.6679281\ttotal: 1.53ms\tremaining: 765ms\n",
      "499:\tlearn: 0.0261084\ttotal: 709ms\tremaining: 0us\n",
      "0:\tlearn: 0.6679281\ttotal: 1.41ms\tremaining: 705ms\n",
      "499:\tlearn: 0.0261084\ttotal: 697ms\tremaining: 0us\n",
      "0:\tlearn: 0.6679281\ttotal: 1.48ms\tremaining: 740ms\n",
      "499:\tlearn: 0.0261084\ttotal: 689ms\tremaining: 0us\n",
      "0:\tlearn: 0.6679281\ttotal: 1.44ms\tremaining: 718ms\n",
      "499:\tlearn: 0.0261084\ttotal: 712ms\tremaining: 0us\n",
      "0:\tlearn: 0.6679281\ttotal: 1.54ms\tremaining: 768ms\n",
      "499:\tlearn: 0.0261084\ttotal: 689ms\tremaining: 0us\n",
      "0:\tlearn: 0.6679281\ttotal: 1.61ms\tremaining: 803ms\n",
      "499:\tlearn: 0.0261084\ttotal: 705ms\tremaining: 0us\n",
      "0:\tlearn: 0.6679281\ttotal: 1.49ms\tremaining: 742ms\n",
      "499:\tlearn: 0.0261084\ttotal: 710ms\tremaining: 0us\n",
      "0:\tlearn: 0.6679281\ttotal: 1.45ms\tremaining: 724ms\n",
      "499:\tlearn: 0.0261084\ttotal: 687ms\tremaining: 0us\n",
      "0:\tlearn: 0.6679281\ttotal: 1.39ms\tremaining: 691ms\n",
      "499:\tlearn: 0.0261084\ttotal: 676ms\tremaining: 0us\n",
      "0:\tlearn: 0.6679281\ttotal: 1.38ms\tremaining: 689ms\n",
      "499:\tlearn: 0.0261084\ttotal: 695ms\tremaining: 0us\n",
      "0:\tlearn: 0.6679281\ttotal: 1.37ms\tremaining: 684ms\n",
      "499:\tlearn: 0.0261084\ttotal: 685ms\tremaining: 0us\n",
      "0:\tlearn: 0.6679281\ttotal: 1.44ms\tremaining: 720ms\n",
      "499:\tlearn: 0.0261084\ttotal: 700ms\tremaining: 0us\n",
      "0:\tlearn: 0.6679281\ttotal: 1.81ms\tremaining: 902ms\n",
      "499:\tlearn: 0.0261084\ttotal: 676ms\tremaining: 0us\n",
      "0:\tlearn: 0.6679281\ttotal: 1.37ms\tremaining: 682ms\n",
      "499:\tlearn: 0.0261084\ttotal: 687ms\tremaining: 0us\n",
      "0:\tlearn: 0.6679281\ttotal: 1.67ms\tremaining: 831ms\n",
      "499:\tlearn: 0.0261084\ttotal: 695ms\tremaining: 0us\n",
      "0:\tlearn: 0.6679281\ttotal: 1.46ms\tremaining: 729ms\n",
      "499:\tlearn: 0.0261084\ttotal: 683ms\tremaining: 0us\n",
      "0:\tlearn: 0.6679281\ttotal: 1.42ms\tremaining: 707ms\n",
      "499:\tlearn: 0.0261084\ttotal: 692ms\tremaining: 0us\n",
      "0:\tlearn: 0.6679281\ttotal: 1.5ms\tremaining: 748ms\n",
      "499:\tlearn: 0.0261084\ttotal: 709ms\tremaining: 0us\n",
      "0:\tlearn: 0.6679281\ttotal: 1.58ms\tremaining: 789ms\n",
      "499:\tlearn: 0.0261084\ttotal: 721ms\tremaining: 0us\n",
      "0:\tlearn: 0.6679281\ttotal: 1.51ms\tremaining: 755ms\n",
      "499:\tlearn: 0.0261084\ttotal: 712ms\tremaining: 0us\n",
      "0:\tlearn: 0.6679281\ttotal: 1.48ms\tremaining: 737ms\n",
      "499:\tlearn: 0.0261084\ttotal: 682ms\tremaining: 0us\n",
      "0:\tlearn: 0.6679281\ttotal: 1.48ms\tremaining: 738ms\n",
      "499:\tlearn: 0.0261084\ttotal: 697ms\tremaining: 0us\n",
      "0:\tlearn: 0.6679281\ttotal: 1.41ms\tremaining: 705ms\n",
      "499:\tlearn: 0.0261084\ttotal: 705ms\tremaining: 0us\n",
      "0:\tlearn: 0.6679281\ttotal: 1.46ms\tremaining: 729ms\n",
      "499:\tlearn: 0.0261084\ttotal: 705ms\tremaining: 0us\n",
      "0:\tlearn: 0.6679281\ttotal: 1.62ms\tremaining: 808ms\n",
      "499:\tlearn: 0.0261084\ttotal: 682ms\tremaining: 0us\n",
      "0:\tlearn: 0.6679281\ttotal: 1.39ms\tremaining: 691ms\n",
      "499:\tlearn: 0.0261084\ttotal: 702ms\tremaining: 0us\n"
     ]
    }
   ],
   "source": [
    "gb_rc = []\n",
    "gb_ac = []\n",
    "gb_fs = []\n",
    "\n",
    "for i in range(30):\n",
    "    model.fit(\n",
    "      X_train, y_train\n",
    "      )\n",
    "    y_train_hat = model.predict(X_train)\n",
    "    y_test_hat_2 = model.predict(X_test)\n",
    "    gb_rc.append(roc_auc_score(y_test, y_test_hat_2))\n",
    "    gb_ac.append(accuracy_score(y_test, y_test_hat_2))\n",
    "    gb_fs.append(f1_score(y_test, y_test_hat_2))"
   ]
  },
  {
   "cell_type": "code",
   "execution_count": 13,
   "id": "5HFX2cUY_aR2",
   "metadata": {
    "colab": {
     "base_uri": "https://localhost:8080/"
    },
    "id": "5HFX2cUY_aR2",
    "outputId": "e5941eb3-a42b-41cb-aa90-67cf84bf22ca"
   },
   "outputs": [
    {
     "name": "stdout",
     "output_type": "stream",
     "text": [
      "roc auc =  0.9259570494864613\n",
      "accuracy =  0.9935233160621761\n",
      "f1 =  0.7058823529411764\n"
     ]
    }
   ],
   "source": [
    "print('roc auc = ', median(gb_rc))\n",
    "print('accuracy = ', median(gb_ac))\n",
    "print('f1 = ', median(gb_fs))"
   ]
  },
  {
   "cell_type": "code",
   "execution_count": null,
   "id": "7a1b437b",
   "metadata": {
    "colab": {
     "base_uri": "https://localhost:8080/"
    },
    "id": "7a1b437b",
    "outputId": "10ed07df-1393-47c0-df90-ec0b04b2bf9b"
   },
   "outputs": [
    {
     "name": "stdout",
     "output_type": "stream",
     "text": [
      "ensemble\n",
      "Train performance\n",
      "-------------------------------------------------------\n",
      "              precision    recall  f1-score   support\n",
      "\n",
      "           0       1.00      0.99      0.99      1840\n",
      "           1       0.99      1.00      0.99      1840\n",
      "\n",
      "    accuracy                           0.99      3680\n",
      "   macro avg       0.99      0.99      0.99      3680\n",
      "weighted avg       0.99      0.99      0.99      3680\n",
      "\n",
      "Test performance\n",
      "-------------------------------------------------------\n",
      "              precision    recall  f1-score   support\n",
      "\n",
      "           0       1.00      0.99      1.00       765\n",
      "           1       0.60      0.86      0.71         7\n",
      "\n",
      "    accuracy                           0.99       772\n",
      "   macro avg       0.80      0.93      0.85       772\n",
      "weighted avg       1.00      0.99      0.99       772\n",
      "\n",
      "Roc_auc score\n",
      "-------------------------------------------------------\n",
      "0.9259570494864613\n",
      "\n",
      "Confusion matrix\n",
      "-------------------------------------------------------\n",
      "[[761   4]\n",
      " [  1   6]]\n"
     ]
    }
   ],
   "source": [
    "y_test_hat_sum = [int(vi or wi) for vi, wi in zip(y_test_hat_1, y_test_hat_2)]\n",
    "print_output(\"ensemble\", y_train, y_train_hat, y_test, y_test_hat_sum)"
   ]
  },
  {
   "cell_type": "code",
   "execution_count": null,
   "id": "Xps97V75nDqp",
   "metadata": {
    "id": "Xps97V75nDqp"
   },
   "outputs": [],
   "source": []
  }
 ],
 "metadata": {
  "accelerator": "GPU",
  "colab": {
   "collapsed_sections": [],
   "name": "module2.ipynb",
   "provenance": []
  },
  "kernelspec": {
   "display_name": "Python 3",
   "language": "python",
   "name": "python3"
  },
  "language_info": {
   "codemirror_mode": {
    "name": "ipython",
    "version": 3
   },
   "file_extension": ".py",
   "mimetype": "text/x-python",
   "name": "python",
   "nbconvert_exporter": "python",
   "pygments_lexer": "ipython3",
   "version": "3.6.13"
  }
 },
 "nbformat": 4,
 "nbformat_minor": 5
}
