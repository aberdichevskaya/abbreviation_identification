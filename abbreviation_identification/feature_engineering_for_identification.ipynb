{
 "cells": [
  {
   "cell_type": "code",
   "execution_count": null,
   "id": "3e42d213",
   "metadata": {
    "id": "3e42d213"
   },
   "outputs": [],
   "source": [
    "import pandas as pd\n",
    "import nltk\n",
    "from scipy.spatial import distance\n",
    "import pymorphy2"
   ]
  },
  {
   "cell_type": "code",
   "execution_count": null,
   "id": "d9fa5eef",
   "metadata": {
    "id": "d9fa5eef"
   },
   "outputs": [],
   "source": [
    "def compare_sentences(s1, s2):\n",
    "    s1 = nltk.word_tokenize(s1)\n",
    "    s2 = nltk.word_tokenize(s2)\n",
    "    if len(s1)!=len(s2):\n",
    "        return False\n",
    "    morph = pymorphy2.MorphAnalyzer()\n",
    "    equal = True\n",
    "    for i in range(len(s1)):\n",
    "        w1 = morph.parse(s1[i])[0]\n",
    "        norm1 = w1.normal_form\n",
    "        w2 = morph.parse(s2[i])[0]\n",
    "        norm2 = w2.normal_form\n",
    "        equal = equal and norm1==norm2\n",
    "    return equal"
   ]
  },
  {
   "cell_type": "code",
   "execution_count": null,
   "id": "215830b2",
   "metadata": {
    "id": "215830b2"
   },
   "outputs": [],
   "source": [
    "def is_it_correct(df, correct_pairs_df):\n",
    "    print(len(df))\n",
    "    is_correct = []\n",
    "    for i in range(len(df)):\n",
    "        A = df['abbreviation'][i].lower()\n",
    "        D = df['definition'][i].lower()\n",
    "        l = 0\n",
    "        r = len(correct_pairs_df)\n",
    "        while(l < r-1):\n",
    "            m = (l+r)//2\n",
    "            #print('l = ', l, ' r = ', r, ' m = ', m)\n",
    "            if correct_pairs_df['abbreviation'][m].lower() <= A:\n",
    "                l = m\n",
    "            else:\n",
    "                r = m\n",
    "        #print('done')\n",
    "        if (correct_pairs_df['abbreviation'][l].lower()==A and\n",
    "            compare_sentences(correct_pairs_df['definition'][l].lower(), D)):\n",
    "            is_correct.append(1)\n",
    "        else:\n",
    "            is_correct.append(0)\n",
    "        #print('i = ', i)\n",
    "    return is_correct"
   ]
  },
  {
   "cell_type": "code",
   "execution_count": null,
   "id": "eddd47f5",
   "metadata": {
    "id": "eddd47f5"
   },
   "outputs": [],
   "source": [
    "def common_first_letters_cnt(df):\n",
    "    feature = []\n",
    "    for i in range(len(df)):\n",
    "        A = df['abbreviation'][i]\n",
    "        D = nltk.word_tokenize(df['definition'][i])\n",
    "        common_letters = 0\n",
    "        for word in D:\n",
    "            if word.lower()[0] in A.lower():\n",
    "                common_letters += 1\n",
    "        feature.append(common_letters/len(A))\n",
    "    return feature"
   ]
  },
  {
   "cell_type": "code",
   "execution_count": null,
   "id": "3831f5d7",
   "metadata": {
    "id": "3831f5d7"
   },
   "outputs": [],
   "source": [
    "def parenthesis_feature(df, pairs):\n",
    "    feature = []\n",
    "    for i in range(len(pairs)):\n",
    "        abbreviation_in_parenthesis = False\n",
    "        definition_in_parenthesis = False\n",
    "        idx = pairs['abbreviation_place'][i]\n",
    "        l = pairs['begin'][i]\n",
    "        r = pairs['end'][i]\n",
    "        left_p = False\n",
    "        right_p = False\n",
    "        for j in range(max(0, idx-5), min(len(df), idx+6)):\n",
    "            if df['token'][j]=='(':\n",
    "                left_p = True\n",
    "            if df['token'][j]==')' and left_p:\n",
    "                right_p = True\n",
    "        abbreviation_in_parenthesis = left_p and right_p\n",
    "        \n",
    "        left_p = False\n",
    "        right_p = False\n",
    "        for j in range(max(0, l-5), l):\n",
    "            if df['token'][j]=='(':\n",
    "                left_p = True\n",
    "        for j in range(r+1, min(len(df), r+6)):\n",
    "            if df['token'][j]==')':\n",
    "                right_p = True\n",
    "        definition_in_parenthesis = left_p and right_p\n",
    "        \n",
    "        feature.append(int(abbreviation_in_parenthesis or definition_in_parenthesis))\n",
    "    return feature"
   ]
  },
  {
   "cell_type": "code",
   "execution_count": null,
   "id": "ce07109f",
   "metadata": {
    "id": "ce07109f"
   },
   "outputs": [],
   "source": [
    "def add_vectors(v, w):\n",
    "    res = [vi + wi for vi, wi in zip(v, w)]\n",
    "    return res"
   ]
  },
  {
   "cell_type": "code",
   "execution_count": null,
   "id": "1f98f92b",
   "metadata": {
    "id": "1f98f92b"
   },
   "outputs": [],
   "source": [
    "def divide_vector(vec, div):\n",
    "    res = [el/div for el in vec]\n",
    "    return res"
   ]
  },
  {
   "cell_type": "code",
   "execution_count": null,
   "id": "zD_fUEFn-7Gd",
   "metadata": {
    "colab": {
     "base_uri": "https://localhost:8080/"
    },
    "id": "zD_fUEFn-7Gd",
    "outputId": "5b9fdf36-06d5-441b-edfc-e49ccb032781"
   },
   "outputs": [
    {
     "name": "stderr",
     "output_type": "stream",
     "text": [
      "[nltk_data] Downloading package punkt to /root/nltk_data...\n",
      "[nltk_data]   Unzipping tokenizers/punkt.zip.\n",
      "[nltk_data] Downloading package stopwords to /root/nltk_data...\n",
      "[nltk_data]   Unzipping corpora/stopwords.zip.\n",
      "[nltk_data] Downloading package perluniprops to /root/nltk_data...\n",
      "[nltk_data]   Unzipping misc/perluniprops.zip.\n",
      "[nltk_data] Downloading package nonbreaking_prefixes to\n",
      "[nltk_data]     /root/nltk_data...\n",
      "[nltk_data]   Unzipping corpora/nonbreaking_prefixes.zip.\n",
      "Some weights of the model checkpoint at /content/drive/MyDrive/ColabNotebooks/rubert_cased_L-12_H-768_A-12_pt were not used when initializing BertModel: ['cls.predictions.transform.dense.bias', 'cls.seq_relationship.bias', 'cls.predictions.decoder.weight', 'cls.seq_relationship.weight', 'cls.predictions.transform.LayerNorm.weight', 'cls.predictions.bias', 'cls.predictions.transform.dense.weight', 'cls.predictions.transform.LayerNorm.bias']\n",
      "- This IS expected if you are initializing BertModel from the checkpoint of a model trained on another task or with another architecture (e.g. initializing a BertForSequenceClassification model from a BertForPreTraining model).\n",
      "- This IS NOT expected if you are initializing BertModel from the checkpoint of a model that you expect to be exactly identical (initializing a BertForSequenceClassification model from a BertForSequenceClassification model).\n"
     ]
    }
   ],
   "source": [
    "from deeppavlov.core.common.file import read_json\n",
    "from deeppavlov import build_model, configs\n",
    "import torch\n",
    "\n",
    "bert_config = read_json(configs.embedder.bert_embedder)\n",
    "bert_config['metadata']['variables']['BERT_PATH'] = r'/content/drive/MyDrive/ColabNotebooks/rubert_cased_L-12_H-768_A-12_pt'\n",
    "\n",
    "model = build_model(bert_config)"
   ]
  },
  {
   "cell_type": "code",
   "execution_count": null,
   "id": "kjDKiBhk-g-V",
   "metadata": {
    "id": "kjDKiBhk-g-V"
   },
   "outputs": [],
   "source": [
    "def almost_synonyms_with_bert(pairs):\n",
    "    morph = pymorphy2.MorphAnalyzer()\n",
    "    feature = []\n",
    "    for i in range(len(pairs)):\n",
    "        A = pairs['abbreviation'][i].lower()\n",
    "        D = nltk.word_tokenize(pairs['definition'][i].lower())\n",
    "        try:\n",
    "            _, token_embs, _, _, _, _, _ = model([A])\n",
    "            omega = token_embs[0][0]\n",
    "            eta = [0]*len(omega)\n",
    "            l = 0\n",
    "            for word in D:\n",
    "                #print(1)\n",
    "                try:\n",
    "                    w = morph.parse(word)[0]\n",
    "                    norm = w.normal_form\n",
    "                    _, token_embs, _, _, _, _, _ = model([norm])\n",
    "                    vec = token_embs[0][0]\n",
    "                    eta = add_vectors(eta, vec)\n",
    "                    #print(2.1)\n",
    "                    l += 1\n",
    "                except KeyError: \n",
    "                    continue\n",
    "            eta = divide_vector(eta, l)\n",
    "            dis = distance.cosine(omega, eta)\n",
    "            feature.append(dis)\n",
    "        except KeyError:\n",
    "            #print(A)\n",
    "            feature.append(None)\n",
    "        except ZeroDivisionError:\n",
    "            feature.append(None)\n",
    "    return feature"
   ]
  },
  {
   "cell_type": "code",
   "execution_count": null,
   "id": "9f2b82a9",
   "metadata": {
    "id": "9f2b82a9"
   },
   "outputs": [],
   "source": [
    "def longest_common_subsequence(A, D):\n",
    "    D = nltk.word_tokenize(D)\n",
    "    D = ''.join(D)\n",
    "    #print(A)\n",
    "    #print(D)\n",
    "    n = len(A)\n",
    "    m = len(D)\n",
    "    matrix = [[\"\" for x in range(m)] for x in range(n)]\n",
    "    for i in range(n):\n",
    "        for j in range(m):\n",
    "            if A[i]==D[j]:\n",
    "                if i==0 or j==0:\n",
    "                    matrix[i][j] = A[i]\n",
    "                else:\n",
    "                    matrix[i][j] = matrix[i-1][j-1] + A[i]\n",
    "            else:\n",
    "                matrix[i][j] = max(matrix[i-1][j], matrix[i][j-1], key=len)\n",
    "    cs = matrix[-1][-1]\n",
    "    return len(cs)/n"
   ]
  },
  {
   "cell_type": "code",
   "execution_count": null,
   "id": "d44ef2f1",
   "metadata": {
    "id": "d44ef2f1"
   },
   "outputs": [],
   "source": [
    "def lcs_feature(df):\n",
    "    feature = []\n",
    "    for i in range(len(df)):\n",
    "        A = df['abbreviation'][i]\n",
    "        D = df['definition'][i]\n",
    "        lcs = longest_common_subsequence(A.lower(), D.lower())\n",
    "        feature.append(lcs)\n",
    "    return feature"
   ]
  },
  {
   "cell_type": "code",
   "execution_count": null,
   "id": "CUF210BcBYKQ",
   "metadata": {
    "id": "CUF210BcBYKQ"
   },
   "outputs": [],
   "source": [
    "pairs = pd.read_csv(\"/content/drive/MyDrive/ColabNotebooks/data/potential_pairs.csv\")\n",
    "df = pd.read_excel(\"/content/drive/MyDrive/ColabNotebooks/data/merges_data.xlsx\")\n",
    "correct_pairs = pd.read_excel(\"/content/drive/MyDrive/ColabNotebooks/data/merged_data_correct_pairs.xlsx\")"
   ]
  },
  {
   "cell_type": "code",
   "execution_count": null,
   "id": "DE1VwDSzS8FE",
   "metadata": {
    "colab": {
     "base_uri": "https://localhost:8080/",
     "height": 302
    },
    "id": "DE1VwDSzS8FE",
    "outputId": "69515cb3-b0dc-4338-c910-7e23a4a5be0b"
   },
   "outputs": [
    {
     "data": {
      "text/html": [
       "\n",
       "  <div id=\"df-eaefe612-d83f-42f8-b2d8-e5ef6869e63f\">\n",
       "    <div class=\"colab-df-container\">\n",
       "      <div>\n",
       "<style scoped>\n",
       "    .dataframe tbody tr th:only-of-type {\n",
       "        vertical-align: middle;\n",
       "    }\n",
       "\n",
       "    .dataframe tbody tr th {\n",
       "        vertical-align: top;\n",
       "    }\n",
       "\n",
       "    .dataframe thead th {\n",
       "        text-align: right;\n",
       "    }\n",
       "</style>\n",
       "<table border=\"1\" class=\"dataframe\">\n",
       "  <thead>\n",
       "    <tr style=\"text-align: right;\">\n",
       "      <th></th>\n",
       "      <th>Unnamed: 0</th>\n",
       "      <th>abbreviation</th>\n",
       "      <th>definition</th>\n",
       "      <th>distance</th>\n",
       "      <th>begin</th>\n",
       "      <th>end</th>\n",
       "      <th>abbreviation_place</th>\n",
       "    </tr>\n",
       "  </thead>\n",
       "  <tbody>\n",
       "    <tr>\n",
       "      <th>0</th>\n",
       "      <td>0</td>\n",
       "      <td>ВРТ</td>\n",
       "      <td>витамина D регуляции</td>\n",
       "      <td>8</td>\n",
       "      <td>33</td>\n",
       "      <td>37</td>\n",
       "      <td>44</td>\n",
       "    </tr>\n",
       "    <tr>\n",
       "      <th>1</th>\n",
       "      <td>1</td>\n",
       "      <td>ВРТ</td>\n",
       "      <td>влиянии результаты</td>\n",
       "      <td>6</td>\n",
       "      <td>37</td>\n",
       "      <td>39</td>\n",
       "      <td>44</td>\n",
       "    </tr>\n",
       "    <tr>\n",
       "      <th>2</th>\n",
       "      <td>2</td>\n",
       "      <td>ВРТ</td>\n",
       "      <td>влиянии результаты использования</td>\n",
       "      <td>5</td>\n",
       "      <td>37</td>\n",
       "      <td>40</td>\n",
       "      <td>44</td>\n",
       "    </tr>\n",
       "    <tr>\n",
       "      <th>3</th>\n",
       "      <td>3</td>\n",
       "      <td>ВРТ</td>\n",
       "      <td>влиянии результаты использования вспомогательных</td>\n",
       "      <td>4</td>\n",
       "      <td>37</td>\n",
       "      <td>41</td>\n",
       "      <td>44</td>\n",
       "    </tr>\n",
       "    <tr>\n",
       "      <th>4</th>\n",
       "      <td>4</td>\n",
       "      <td>ВРТ</td>\n",
       "      <td>влиянии результаты использования вспомогательн...</td>\n",
       "      <td>3</td>\n",
       "      <td>37</td>\n",
       "      <td>42</td>\n",
       "      <td>44</td>\n",
       "    </tr>\n",
       "  </tbody>\n",
       "</table>\n",
       "</div>\n",
       "      <button class=\"colab-df-convert\" onclick=\"convertToInteractive('df-eaefe612-d83f-42f8-b2d8-e5ef6869e63f')\"\n",
       "              title=\"Convert this dataframe to an interactive table.\"\n",
       "              style=\"display:none;\">\n",
       "        \n",
       "  <svg xmlns=\"http://www.w3.org/2000/svg\" height=\"24px\"viewBox=\"0 0 24 24\"\n",
       "       width=\"24px\">\n",
       "    <path d=\"M0 0h24v24H0V0z\" fill=\"none\"/>\n",
       "    <path d=\"M18.56 5.44l.94 2.06.94-2.06 2.06-.94-2.06-.94-.94-2.06-.94 2.06-2.06.94zm-11 1L8.5 8.5l.94-2.06 2.06-.94-2.06-.94L8.5 2.5l-.94 2.06-2.06.94zm10 10l.94 2.06.94-2.06 2.06-.94-2.06-.94-.94-2.06-.94 2.06-2.06.94z\"/><path d=\"M17.41 7.96l-1.37-1.37c-.4-.4-.92-.59-1.43-.59-.52 0-1.04.2-1.43.59L10.3 9.45l-7.72 7.72c-.78.78-.78 2.05 0 2.83L4 21.41c.39.39.9.59 1.41.59.51 0 1.02-.2 1.41-.59l7.78-7.78 2.81-2.81c.8-.78.8-2.07 0-2.86zM5.41 20L4 18.59l7.72-7.72 1.47 1.35L5.41 20z\"/>\n",
       "  </svg>\n",
       "      </button>\n",
       "      \n",
       "  <style>\n",
       "    .colab-df-container {\n",
       "      display:flex;\n",
       "      flex-wrap:wrap;\n",
       "      gap: 12px;\n",
       "    }\n",
       "\n",
       "    .colab-df-convert {\n",
       "      background-color: #E8F0FE;\n",
       "      border: none;\n",
       "      border-radius: 50%;\n",
       "      cursor: pointer;\n",
       "      display: none;\n",
       "      fill: #1967D2;\n",
       "      height: 32px;\n",
       "      padding: 0 0 0 0;\n",
       "      width: 32px;\n",
       "    }\n",
       "\n",
       "    .colab-df-convert:hover {\n",
       "      background-color: #E2EBFA;\n",
       "      box-shadow: 0px 1px 2px rgba(60, 64, 67, 0.3), 0px 1px 3px 1px rgba(60, 64, 67, 0.15);\n",
       "      fill: #174EA6;\n",
       "    }\n",
       "\n",
       "    [theme=dark] .colab-df-convert {\n",
       "      background-color: #3B4455;\n",
       "      fill: #D2E3FC;\n",
       "    }\n",
       "\n",
       "    [theme=dark] .colab-df-convert:hover {\n",
       "      background-color: #434B5C;\n",
       "      box-shadow: 0px 1px 3px 1px rgba(0, 0, 0, 0.15);\n",
       "      filter: drop-shadow(0px 1px 2px rgba(0, 0, 0, 0.3));\n",
       "      fill: #FFFFFF;\n",
       "    }\n",
       "  </style>\n",
       "\n",
       "      <script>\n",
       "        const buttonEl =\n",
       "          document.querySelector('#df-eaefe612-d83f-42f8-b2d8-e5ef6869e63f button.colab-df-convert');\n",
       "        buttonEl.style.display =\n",
       "          google.colab.kernel.accessAllowed ? 'block' : 'none';\n",
       "\n",
       "        async function convertToInteractive(key) {\n",
       "          const element = document.querySelector('#df-eaefe612-d83f-42f8-b2d8-e5ef6869e63f');\n",
       "          const dataTable =\n",
       "            await google.colab.kernel.invokeFunction('convertToInteractive',\n",
       "                                                     [key], {});\n",
       "          if (!dataTable) return;\n",
       "\n",
       "          const docLinkHtml = 'Like what you see? Visit the ' +\n",
       "            '<a target=\"_blank\" href=https://colab.research.google.com/notebooks/data_table.ipynb>data table notebook</a>'\n",
       "            + ' to learn more about interactive tables.';\n",
       "          element.innerHTML = '';\n",
       "          dataTable['output_type'] = 'display_data';\n",
       "          await google.colab.output.renderOutput(dataTable, element);\n",
       "          const docLink = document.createElement('div');\n",
       "          docLink.innerHTML = docLinkHtml;\n",
       "          element.appendChild(docLink);\n",
       "        }\n",
       "      </script>\n",
       "    </div>\n",
       "  </div>\n",
       "  "
      ],
      "text/plain": [
       "   Unnamed: 0 abbreviation  ... end  abbreviation_place\n",
       "0           0          ВРТ  ...  37                  44\n",
       "1           1          ВРТ  ...  39                  44\n",
       "2           2          ВРТ  ...  40                  44\n",
       "3           3          ВРТ  ...  41                  44\n",
       "4           4          ВРТ  ...  42                  44\n",
       "\n",
       "[5 rows x 7 columns]"
      ]
     },
     "execution_count": 16,
     "metadata": {},
     "output_type": "execute_result"
    }
   ],
   "source": [
    "pairs.head()"
   ]
  },
  {
   "cell_type": "code",
   "execution_count": null,
   "id": "9cdd7642",
   "metadata": {
    "colab": {
     "base_uri": "https://localhost:8080/"
    },
    "id": "9cdd7642",
    "outputId": "19cd1d74-8336-4906-ea24-103ee8771e18"
   },
   "outputs": [
    {
     "name": "stdout",
     "output_type": "stream",
     "text": [
      "1878\n"
     ]
    }
   ],
   "source": [
    "pairs['is_it_correct'] = is_it_correct(pairs, correct_pairs)\n",
    "pairs['first_letters'] = common_first_letters_cnt(pairs)\n",
    "pairs['parenthesis'] = parenthesis_feature(df, pairs)\n",
    "pairs['almost_synonyms'] = almost_synonyms_with_bert(pairs)\n",
    "pairs['lcs_feature'] = lcs_feature(pairs)\n",
    "pairs.to_csv(\"/content/drive/MyDrive/ColabNotebooks/data/potential_pairs_with_features.csv\")"
   ]
  }
 ],
 "metadata": {
  "accelerator": "GPU",
  "colab": {
   "collapsed_sections": [],
   "name": "module2_feature_engineering.ipynb",
   "provenance": []
  },
  "kernelspec": {
   "display_name": "Python 3",
   "language": "python",
   "name": "python3"
  },
  "language_info": {
   "codemirror_mode": {
    "name": "ipython",
    "version": 3
   },
   "file_extension": ".py",
   "mimetype": "text/x-python",
   "name": "python",
   "nbconvert_exporter": "python",
   "pygments_lexer": "ipython3",
   "version": "3.6.13"
  }
 },
 "nbformat": 4,
 "nbformat_minor": 5
}
